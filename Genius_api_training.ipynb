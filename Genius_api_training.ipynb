{
 "cells": [
  {
   "cell_type": "code",
   "execution_count": null,
   "id": "26671af8",
   "metadata": {},
   "outputs": [],
   "source": [
    "# the token can be retrieved at https://genius.com/api-clients\n",
    "# the script uses lyricsgenius packages created by https://github.com/johnwmillr - more  https://pypi.org/project/lyricsgenius/\n",
    "\n",
    "\n",
    "from lyricsgenius import Genius\n",
    "my_token\n",
    "genius = Genius(my_token)\n",
    "genius.search_artist('Spinto Band')\n"
   ]
  },
  {
   "cell_type": "code",
   "execution_count": null,
   "id": "3ba47e14",
   "metadata": {},
   "outputs": [],
   "source": []
  }
 ],
 "metadata": {
  "kernelspec": {
   "display_name": "Python 3",
   "language": "python",
   "name": "python3"
  },
  "language_info": {
   "codemirror_mode": {
    "name": "ipython",
    "version": 3
   },
   "file_extension": ".py",
   "mimetype": "text/x-python",
   "name": "python",
   "nbconvert_exporter": "python",
   "pygments_lexer": "ipython3",
   "version": "3.9.16"
  }
 },
 "nbformat": 4,
 "nbformat_minor": 5
}
